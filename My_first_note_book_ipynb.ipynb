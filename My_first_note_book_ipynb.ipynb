{
  "nbformat": 4,
  "nbformat_minor": 0,
  "metadata": {
    "colab": {
      "name": "My first note book. ipynb",
      "provenance": [],
      "authorship_tag": "ABX9TyMHaMP7reCZQtBsgAlZCEXf",
      "include_colab_link": true
    },
    "kernelspec": {
      "name": "python3",
      "display_name": "Python 3"
    },
    "language_info": {
      "name": "python"
    }
  },
  "cells": [
    {
      "cell_type": "markdown",
      "metadata": {
        "id": "view-in-github",
        "colab_type": "text"
      },
      "source": [
        "<a href=\"https://colab.research.google.com/github/kandalaramyasri/Basic-ML/blob/main/My_first_note_book_ipynb.ipynb\" target=\"_parent\"><img src=\"https://colab.research.google.com/assets/colab-badge.svg\" alt=\"Open In Colab\"/></a>"
      ]
    },
    {
      "cell_type": "markdown",
      "metadata": {
        "id": "MhpvxTYklTGF"
      },
      "source": [
        "1.python program to print that my name is kandala ramyasri"
      ]
    },
    {
      "cell_type": "code",
      "metadata": {
        "colab": {
          "base_uri": "https://localhost:8080/"
        },
        "id": "TtRbP88yn9O-",
        "outputId": "407fa1ee-479c-484b-b192-bc27b32cd194"
      },
      "source": [
        "print(\"my name is kandala ramyasri\")"
      ],
      "execution_count": 1,
      "outputs": [
        {
          "output_type": "stream",
          "text": [
            "my name is kandala ramyasri\n"
          ],
          "name": "stdout"
        }
      ]
    },
    {
      "cell_type": "markdown",
      "metadata": {
        "id": "UItbgKtAny_m"
      },
      "source": [
        ""
      ]
    },
    {
      "cell_type": "markdown",
      "metadata": {
        "id": "F3k6FO_5oQzW"
      },
      "source": [
        "2.python program to add two numbers"
      ]
    },
    {
      "cell_type": "code",
      "metadata": {
        "colab": {
          "base_uri": "https://localhost:8080/"
        },
        "id": "NsgmuAzMqkFn",
        "outputId": "07d3ad6e-fc4f-430b-fc21-0602b511bfad"
      },
      "source": [
        "a=13\n",
        "b=17\n",
        "print(a+b)"
      ],
      "execution_count": 4,
      "outputs": [
        {
          "output_type": "stream",
          "text": [
            "30\n"
          ],
          "name": "stdout"
        }
      ]
    },
    {
      "cell_type": "markdown",
      "metadata": {
        "id": "smu4JhOSq0EH"
      },
      "source": [
        "3.python program to print factorial of a number"
      ]
    },
    {
      "cell_type": "code",
      "metadata": {
        "colab": {
          "base_uri": "https://localhost:8080/"
        },
        "id": "OuOE5vlbsoia",
        "outputId": "fa984447-e5db-4852-d60b-92152fafbb51"
      },
      "source": [
        "def factorial(n):\n",
        "  if n == 0:\n",
        "    return 1\n",
        "  else:\n",
        "    return n * factorial (n-1)\n",
        "n=int(input(\"input a number to compute the factorial : \"))\n",
        "print(factorial(n))"
      ],
      "execution_count": 6,
      "outputs": [
        {
          "output_type": "stream",
          "text": [
            "input a number to compute the factorial : 5\n",
            "120\n"
          ],
          "name": "stdout"
        }
      ]
    }
  ]
}